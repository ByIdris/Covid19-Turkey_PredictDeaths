{
  "nbformat": 4,
  "nbformat_minor": 0,
  "metadata": {
    "colab": {
      "name": "MachineLearning-Covid19.ipynb",
      "provenance": [],
      "private_outputs": true,
      "collapsed_sections": [],
      "toc_visible": true
    },
    "kernelspec": {
      "name": "python3",
      "display_name": "Python 3"
    },
    "accelerator": "GPU"
  },
  "cells": [
    {
      "cell_type": "markdown",
      "metadata": {
        "id": "WoesvKsFqCfA"
      },
      "source": [
        "# Google Drive'ı Bağlamak\n",
        "\n",
        "Projemize google drive dizinimizin bağlantısını yapıyoruz."
      ]
    },
    {
      "cell_type": "code",
      "metadata": {
        "id": "j0wPNg60lcBH"
      },
      "source": [
        "from google.colab import drive\n",
        "drive.mount('/content/drive')\n",
        "\n",
        "# drive unmount\n",
        "# drive.flush_and_unmount()"
      ],
      "execution_count": null,
      "outputs": []
    },
    {
      "cell_type": "markdown",
      "metadata": {
        "id": "bZN31Cu4Sr2L"
      },
      "source": [
        "# Verilerimizi derin öğrenme yapımıza göre düzenleyeceğiz\n",
        "\n",
        "\n"
      ]
    },
    {
      "cell_type": "code",
      "metadata": {
        "id": "IJ2H_iQURPAY"
      },
      "source": [
        "import numpy as np\n",
        "import pandas as pd\n",
        "\n",
        "File = \"./DataSets/Covid19-Turkey.csv\"\n",
        "DF = pd.read_csv(File).drop(columns=['Date', 'Pneumonia', 'SeriouslyIll', 'Tests',\n",
        "                                     'Recovered', 'Confirmed', 'Deaths'])\n",
        "DF = DF[DF['DailyTests'] != 0]\n",
        "# Data = [pd.to_datetime(DF[\"Date\"]).values.reshape(-1, 1), DF[\"\"].values.reshape(-1, 1),\n",
        "#         DF[\"Confirmed\"].values.reshape(-1, 1), DF[\"Deaths\"].values.reshape(-1, 1),\n",
        "#         DF[\"Pneumonia\"].values.reshape(-1, 1), DF[\"SeriouslyIll\"].values.reshape(-1, 1),\n",
        "#         DF[\"Recovered\"].values.reshape(-1, 1), DF[\"DailyTests\"].values.reshape(-1, 1),\n",
        "#         DF[\"DailyConfirmed\"].values.reshape(-1, 1), DF[\"DailyRecovered\"].values.reshape(-1, 1),\n",
        "#         DF[\"DailyDeaths\"].values.reshape(-1, 1)]\n",
        "\n",
        "X = ['DailyTests', 'DailyConfirmed', 'DailyRecovered']\n",
        "\n",
        "Train_X, Train_Y = DF[X].iloc[:-30,:], DF.drop(columns=X).iloc[:-30,:]\n",
        "Test_X, Test_Y = DF[X].iloc[-10:,:], DF.drop(columns=X).iloc[-10:,:]\n",
        "Val_X, Val_Y = DF[X].iloc[-30:-10,:], DF.drop(columns=X).iloc[-30:-10,:]"
      ],
      "execution_count": null,
      "outputs": []
    },
    {
      "cell_type": "markdown",
      "metadata": {
        "id": "dIPOIi1WKzXT"
      },
      "source": [
        "# Derin öğrenme modelimizi yükleiyip test verilerimizin doğruluğunu kontrol edelim"
      ]
    },
    {
      "cell_type": "code",
      "metadata": {
        "id": "chbQKHqKkeWi"
      },
      "source": [
        "from tensorflow import keras\n",
        "from keras.layers import *\n",
        "\n",
        "Model = models.load_model(\"./GreatModel\")\n",
        "print(Model.evaluate(Test_X, Test_Y))\n",
        "print(Model.predict(Test_X))\n",
        "print(Test_Y)"
      ],
      "execution_count": null,
      "outputs": []
    }
  ]
}