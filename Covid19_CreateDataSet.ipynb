{
  "nbformat": 4,
  "nbformat_minor": 0,
  "metadata": {
    "colab": {
      "name": "Covid19-CreateDataSet.ipynb",
      "provenance": [],
      "private_outputs": true,
      "collapsed_sections": [],
      "toc_visible": true
    },
    "kernelspec": {
      "name": "python3",
      "display_name": "Python 3"
    }
  },
  "cells": [
    {
      "cell_type": "markdown",
      "metadata": {
        "id": "WoesvKsFqCfA"
      },
      "source": [
        "# Google Drive'ı Bağlamak\n",
        "\n",
        "Projemize google drive dizinimizin bağlantısını yapıyoruz."
      ]
    },
    {
      "cell_type": "code",
      "metadata": {
        "id": "j0wPNg60lcBH"
      },
      "source": [
        "from google.colab import drive\n",
        "drive.mount('/content/drive')\n",
        "\n",
        "# drive unmount\n",
        "# drive.flush_and_unmount()"
      ],
      "execution_count": null,
      "outputs": []
    },
    {
      "cell_type": "markdown",
      "metadata": {
        "id": "BMSLZH3RqW29"
      },
      "source": [
        "# \"**requests**\" ve \"**datetime**\" kütüphanelerini kullanarak verimizi düzenli hale getirdik\n",
        "\n",
        "Selenium ile internetten veri çekip ve üzerinde işlemler yaparak projemize uygun bir veri haline getiriyoruz."
      ]
    },
    {
      "cell_type": "code",
      "metadata": {
        "id": "DT7Acy7nmcYQ"
      },
      "source": [
        "import datetime\n",
        "import requests\n",
        "\n",
        "class Covid19_Turkey:\n",
        "    def __init__(self):\n",
        "        self.Url = \"https://covid19.saglik.gov.tr/covid19api?getir=\"\n",
        "\n",
        "    @property\n",
        "    def __AllJson(self):\n",
        "        self.Json = requests.get(self.Url + \"liste\").json()\n",
        "\n",
        "    def __AutoEditJson(self):\n",
        "        for i in self.Json:\n",
        "            i[\"tarih\"] = datetime.datetime.strptime(i[\"tarih\"], \"%d.%m.%Y\").date()\n",
        "            i[\"toplam_test\"] = int(i[\"toplam_test\"].replace(\".\", \"\")) \\\n",
        "                if i[\"toplam_test\"] != \"\" else 0\n",
        "            i[\"toplam_vaka\"] = int(i[\"toplam_vaka\"].replace(\".\", \"\")) \\\n",
        "                if i[\"toplam_vaka\"] != \"\" else 0\n",
        "            i[\"toplam_vefat\"] = int(i[\"toplam_vefat\"].replace(\".\", \"\")) \\\n",
        "                if i[\"toplam_vefat\"] != \"\" else 0\n",
        "            i[\"hastalarda_zaturre_oran\"] = float(i[\"hastalarda_zaturre_oran\"].replace(\",\", \".\")) \\\n",
        "                if i[\"hastalarda_zaturre_oran\"] != \"\" else 0\n",
        "            i[\"agir_hasta_sayisi\"] = int(i[\"agir_hasta_sayisi\"].replace(\".\", \"\")) \\\n",
        "                if i[\"agir_hasta_sayisi\"] != \"\" else 0\n",
        "            i[\"toplam_iyilesen\"] = int(i[\"toplam_iyilesen\"].replace(\".\", \"\")) \\\n",
        "                if i[\"toplam_iyilesen\"] != \"\" else 0\n",
        "            i[\"gunluk_test\"] = int(i[\"gunluk_test\"].replace(\".\", \"\")) \\\n",
        "                if i[\"gunluk_test\"] != \"\" else 0\n",
        "            i[\"gunluk_vaka\"] = int(i[\"gunluk_vaka\"].replace(\".\", \"\")) \\\n",
        "                if i[\"gunluk_vaka\"] != \"\" else 0\n",
        "            i[\"gunluk_vefat\"] = int(i[\"gunluk_vefat\"].replace(\".\", \"\")) \\\n",
        "                if i[\"gunluk_vefat\"] != \"\" else 0\n",
        "            i[\"gunluk_iyilesen\"] = int(i[\"gunluk_iyilesen\"].replace(\".\", \"\")) \\\n",
        "                if i[\"gunluk_iyilesen\"] != \"\" else 0\n",
        "\n",
        "    def GetBackData(self, DateInData):\n",
        "        LastDay = datetime.datetime.strptime(DateInData, \"%Y-%m-%d\")\n",
        "        self.__AllJson\n",
        "        LastData = datetime.datetime.strptime(self.Json[0][\"tarih\"], \"%d.%m.%Y\")\n",
        "        self.Json = self.Json[:(LastData.date() - LastDay.date()).days]\n",
        "        self.__AutoEditJson()\n",
        "        return self.Json\n",
        "\n",
        "    @property\n",
        "    def GetAll(self):\n",
        "        self.__AllJson\n",
        "        self.Json = self.Json\n",
        "        self.__AutoEditJson()\n",
        "        return self.Json"
      ],
      "execution_count": null,
      "outputs": []
    },
    {
      "cell_type": "markdown",
      "metadata": {
        "id": "hkfbhF96q1Dy"
      },
      "source": [
        "# Pandas ile Dataset Okuma ve Kaydetme\n",
        "\n",
        "Selenium ile çektiğimiz verileri dataset olarak kaydetmek için pandas kütüphanesini kullanarak kaydediyoruz."
      ]
    },
    {
      "cell_type": "code",
      "metadata": {
        "id": "wjzZTL0VXIeu"
      },
      "source": [
        "import pandas as pd\n",
        "from os import path\n",
        "\n",
        "\n",
        "def RenameDropSort(DF):\n",
        "    return DF.rename(columns={\"tarih\": \"Date\",\n",
        "                              \"toplam_test\": \"Tests\",\n",
        "                              \"toplam_vaka\": \"Confirmed\",\n",
        "                              \"toplam_vefat\": \"Deaths\",\n",
        "                              \"hastalarda_zaturre_oran\": \"Pneumonia\",\n",
        "                              \"agir_hasta_sayisi\": \"SeriouslyIll\",\n",
        "                              \"toplam_iyilesen\": \"Recovered\",\n",
        "                              \"gunluk_test\": \"DailyTests\",\n",
        "                              \"gunluk_vaka\": \"DailyConfirmed\",\n",
        "                              \"gunluk_vefat\": \"DailyDeaths\",\n",
        "                              \"gunluk_iyilesen\": \"DailyRecovered\"}).drop(\n",
        "        columns=[\"toplam_yogun_bakim\", \"toplam_entube\", \"yatak_doluluk_orani\",\n",
        "                 \"eriskin_yogun_bakim_doluluk_orani\", \"ventilator_doluluk_orani\",\n",
        "                 \"ortalama_filyasyon_suresi\", \"ortalama_temasli_tespit_suresi\",\n",
        "                 \"filyasyon_orani\"]).sort_values(by=[\"Date\"])\n",
        "\n",
        "\n",
        "Data = Covid19_Turkey()\n",
        "File = \"./DataSets/Covid19-Turkey.csv\"\n",
        "if path.exists(File):\n",
        "    DF = pd.read_csv(File)\n",
        "    try:\n",
        "        DF.to_csv(File + \".backup\", index=False)\n",
        "        DF = DF.append(RenameDropSort(pd.DataFrame(Data.GetBackData(DF[\"Date\"][DF[\"Date\"].count() - 1]))),\n",
        "                       ignore_index=True)\n",
        "        print(\"Saved data.\")\n",
        "    except KeyError:\n",
        "        print(\"You have all data.\")\n",
        "else:\n",
        "    DF = RenameDropSort(pd.DataFrame(Data.GetAll))\n",
        "    print(\"File created and saved data.\")\n",
        "DF.to_csv(File, index=False)"
      ],
      "execution_count": null,
      "outputs": []
    }
  ]
}